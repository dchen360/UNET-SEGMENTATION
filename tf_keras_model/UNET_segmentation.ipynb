{
  "nbformat": 4,
  "nbformat_minor": 0,
  "metadata": {
    "colab": {
      "name": "UNET_segmentation.ipynb",
      "provenance": [],
      "collapsed_sections": []
    },
    "kernelspec": {
      "name": "python3",
      "display_name": "Python 3"
    },
    "language_info": {
      "name": "python"
    }
  },
  "cells": [
    {
      "cell_type": "code",
      "execution_count": null,
      "metadata": {
        "id": "wa4u7lHt_DYT"
      },
      "outputs": [],
      "source": [
        "import numpy as np\n",
        "import pandas as pd\n",
        "\n",
        "## model ##\n",
        "from __future__ import print_function\n",
        "import os\n",
        "# keras\n",
        "from keras.models import Model\n",
        "from keras.layers import *\n",
        "from tensorflow.keras.optimizers import Adam, SGD\n",
        "from keras.callbacks import ModelCheckpoint, History\n",
        "from keras import backend as K\n",
        "\n",
        "# skimage\n",
        "from skimage.transform import resize\n",
        "from skimage.io import imsave\n",
        "from skimage.segmentation import mark_boundaries\n",
        "from skimage.exposure import rescale_intensity\n",
        "from skimage import io\n",
        "\n",
        "# matplotlib\n",
        "import matplotlib.pyplot as plt"
      ]
    },
    {
      "cell_type": "markdown",
      "source": [
        "Mount Google Drive to get data"
      ],
      "metadata": {
        "id": "jT-8Nt7yAT9v"
      }
    },
    {
      "cell_type": "code",
      "source": [
        "from google.colab import drive\n",
        "drive.mount('/content/drive')"
      ],
      "metadata": {
        "colab": {
          "base_uri": "https://localhost:8080/"
        },
        "id": "BSidVZ8_AXdS",
        "outputId": "e25148da-a3e8-4796-8436-47c95a23f628"
      },
      "execution_count": null,
      "outputs": [
        {
          "output_type": "stream",
          "name": "stdout",
          "text": [
            "Mounted at /content/drive\n"
          ]
        }
      ]
    },
    {
      "cell_type": "markdown",
      "source": [
        "Data Pre-processing"
      ],
      "metadata": {
        "id": "i1_brb6h_5yQ"
      }
    },
    {
      "cell_type": "code",
      "source": [
        "#  Need a method here to load all image/data in\n",
        "# load image need to have:\n",
        "# img_train, mask_train, img_test\n",
        "    \n",
        "# metadata loc: ~/code/Segmentation/metadata.csv\n",
        "# image data under column: 'CT_image_path'; corresponding lung mask column: 'lung_mask_path'\n",
        "\n",
        "# switch tensorflow dimension orders\n",
        "K.set_image_data_format('channels_last')\n",
        "rows = 512\n",
        "cols = 512\n",
        "smooth = 1.\n",
        "\n",
        "# class dataProcess(object):\n",
        "#     ## Initialization ##\n",
        "#     def __init__(self, rows, cols):\n",
        "#         self.rows = rows\n",
        "#         self.cols = cols\n",
        "#         # self.data_path = data_path\n",
        "\n",
        "train_data_path = '/content/drive/MyDrive/UNET/Dataset/train'\n",
        "test_data_path = '/content/drive/MyDrive/UNET/Dataset/test'\n",
        "save_to_path = '/content/drive/MyDrive/UNET/Dataset/predicted'\n",
        "image_pre = 'CT_lung_Dataset_20-03-24_image_2'\n",
        "lung_mask_pre = 'CT_lung_Dataset_20-03-24_lung_mask_2'\n",
        "test_pre = 'CT_lung_Dataset_20-03-24_image_5' # can change to 6 or 7 if need more testing data"
      ],
      "metadata": {
        "id": "oHP9qgzS_M5p"
      },
      "execution_count": null,
      "outputs": []
    },
    {
      "cell_type": "code",
      "source": [
        "def create_train_data():\n",
        "    ## get metadata ##\n",
        "    # metadata_path = '/home/zitiantang/code/Segmentation/metadata.csv'\n",
        "    # metadata_df = pd.read_csv(metadata_path, index_col=0)\n",
        "    \n",
        "    ## Initialize list for images and corresponding masks\n",
        "    image_train = []\n",
        "    lung_mask_train = []\n",
        "\n",
        "    ## Directly get data from train folder ##\n",
        "    for i in range(1,6):\n",
        "      image_path = os.path.join(train_data_path, image_pre+str(i)+'.npy')\n",
        "      lung_mask_path = os.path.join(train_data_path, lung_mask_pre+str(i)+'.npy')\n",
        "      image_train.append(np.load(image_path))\n",
        "      lung_mask_train.append(np.load(lung_mask_path))\n",
        "\n",
        "    ## Loop through metadata ##\n",
        "    # for i in range(metadata_df.shape[0]):\n",
        "    #     curr_row = metadata_df.iloc[i]\n",
        "    #     image_path = curr_row['CT_image_path']\n",
        "    #     isTrain = curr_row['is_Train']\n",
        "    #     if '20-03-24' in image_path:\n",
        "    #         if isTrain:\n",
        "    #             # mod_im = np.load(image_path)\n",
        "    #             # mod_im = mod_im[:,:,None]\n",
        "    #             # image_train.append(mod_im)\n",
        "    #             image_train.append(np.load(image_path))\n",
        "    #             # mod_msk = np.load(curr_row['lung_mask_path'])\n",
        "    #             # mod_msk = mod_msk[:,:,None]\n",
        "    #             # lung_mask_train.append(mod_msk)\n",
        "    #             lung_mask_train.append(np.load(curr_row['lung_mask_path']))\n",
        "\n",
        "    ## Image modification ##\n",
        "    # image_train = image_train.astype('float32')\n",
        "    # image_train /= 255\n",
        "    # lung_mask_train = lung_mask_train.astype('float32')\n",
        "    # lung_mask_train /= 255\n",
        "\n",
        "    ## Return ##\n",
        "    # return tuple(image_train), tuple(lung_mask_train)\n",
        "    \n",
        "    ## Create big nd arrays ##\n",
        "    imgs = np.ndarray((len(image_train), rows, cols), dtype=np.uint8) #np.array instead of np.ndarray\n",
        "    lung_masks = np.ndarray((len(lung_mask_train), rows, cols), dtype=np.uint8)\n",
        "    for idx, img in enumerate(image_train):\n",
        "        imgs[idx, :, :] = img #imgs[idx] is the same as imgs[idx,:,:]\n",
        "    for idx, img in enumerate(lung_mask_train):\n",
        "        lung_masks[idx, :, :] = img\n",
        "    \n",
        "    np.save(os.path.join(train_data_path, 'imgs_train.npy'), imgs)\n",
        "    np.save(os.path.join(train_data_path, 'lung_mask_train.npy'), lung_masks)"
      ],
      "metadata": {
        "id": "yUW7M00W_QPb"
      },
      "execution_count": null,
      "outputs": []
    },
    {
      "cell_type": "code",
      "source": [
        "def load_train_data():\n",
        "    image_train = np.load(os.path.join(train_data_path, 'imgs_train.npy'))\n",
        "    lung_mask_train = np.load(os.path.join(train_data_path, 'lung_mask_train.npy'))\n",
        "    return image_train, lung_mask_train"
      ],
      "metadata": {
        "id": "SDGyYXjv_Vb0"
      },
      "execution_count": null,
      "outputs": []
    },
    {
      "cell_type": "code",
      "source": [
        "def create_test_data():\n",
        "    ## get metadata ##\n",
        "    # metadata_path = '/home/zitiantang/code/Segmentation/metadata.csv'\n",
        "    # metadata_df = pd.read_csv(metadata_path, index_col=0)\n",
        "\n",
        "    ## Initialize list for testing images ##\n",
        "    image_test = []\n",
        "\n",
        "    ## get testing data directly from folder ##\n",
        "    for i in range(1,3):\n",
        "      image_test_path = os.path.join(test_data_path, test_pre+str(i)+'.npy')\n",
        "      image_test.append(np.load(image_test_path))\n",
        "\n",
        "    ## Loop through metadata ##\n",
        "    # for i in range(metadata_df.shape[0]):\n",
        "    #     curr_row = metadata_df.iloc[i]\n",
        "    #     image_path = curr_row['CT_image_path']\n",
        "    #     isTrain = curr_row['is_Train']\n",
        "    #     if '20-03-24' in image_path:\n",
        "    #         if ~isTrain:\n",
        "    #             # mod_im = np.load(image_path)\n",
        "    #             # mod_im = mod_im[:,:,None]\n",
        "    #             # image_test.append(mod_im)\n",
        "    #             image_test.append(np.load(image_path))\n",
        "    \n",
        "    ## Image modification ##\n",
        "    # image_test = image_test.astype('float32')\n",
        "    # image_test /= 255\n",
        "\n",
        "    ## Return ##\n",
        "    # return tuple(image_test)\n",
        "\n",
        "    ## Create big nd array ##\n",
        "    imgtest = np.ndarray((len(image_test), rows, cols), dtype=np.uint8)\n",
        "    for idx, img in enumerate(image_test):\n",
        "        imgtest[idx, :, :] = img\n",
        "    np.save(os.path.join(test_data_path, 'imgs_test.npy'), imgtest)"
      ],
      "metadata": {
        "id": "JGm57K9c_XKA"
      },
      "execution_count": null,
      "outputs": []
    },
    {
      "cell_type": "code",
      "source": [
        "def load_test_data():\n",
        "    image_test = np.load(os.path.join(test_data_path, 'imgs_test.npy'))\n",
        "    return image_test"
      ],
      "metadata": {
        "id": "jNoTDY8I_bsV"
      },
      "execution_count": null,
      "outputs": []
    },
    {
      "cell_type": "code",
      "source": [
        "## Only need to run once ##\n",
        "create_train_data()\n",
        "create_test_data()"
      ],
      "metadata": {
        "id": "Lh2z85miNdpn"
      },
      "execution_count": null,
      "outputs": []
    },
    {
      "cell_type": "markdown",
      "source": [
        "UNET Model and Training"
      ],
      "metadata": {
        "id": "roZKHgCs_0eu"
      }
    },
    {
      "cell_type": "code",
      "source": [
        "## Define dice lost ##\n",
        "def dice_coef(y_true, y_pred):\n",
        "  y_true_f = K.flatten(y_true)\n",
        "  y_pred_f = K.flatten(y_pred)\n",
        "  intersection = K.sum(y_true_f * y_pred_f)\n",
        "  return (2. * intersection + smooth) / (K.sum(y_true_f) + K.sum(y_pred_f) + smooth)\n",
        "\n",
        "def dice_coef_loss(y_true, y_pred):\n",
        "  return -dice_coef(y_true, y_pred)"
      ],
      "metadata": {
        "id": "JUGNNCB7T8DB"
      },
      "execution_count": null,
      "outputs": []
    },
    {
      "cell_type": "code",
      "source": [
        "def get_unet():\n",
        "    inputs = Input((rows, cols, 1))\n",
        "    conv1 = Conv2D(32, (3, 3), activation='relu', padding='same')(inputs)\n",
        "    conv1 = Conv2D(32, (3, 3), activation='relu', padding='same')(conv1)\n",
        "    pool1 = MaxPooling2D(pool_size=(2, 2))(conv1)\n",
        "\n",
        "    conv2 = Conv2D(64, (3, 3), activation='relu', padding='same')(pool1)\n",
        "    conv2 = Conv2D(64, (3, 3), activation='relu', padding='same')(conv2)\n",
        "    pool2 = MaxPooling2D(pool_size=(2, 2))(conv2)\n",
        "\n",
        "    conv3 = Conv2D(128, (3, 3), activation='relu', padding='same')(pool2)\n",
        "    conv3 = Conv2D(128, (3, 3), activation='relu', padding='same')(conv3)\n",
        "    pool3 = MaxPooling2D(pool_size=(2, 2))(conv3)\n",
        "\n",
        "    conv4 = Conv2D(256, (3, 3), activation='relu', padding='same')(pool3)\n",
        "    conv4 = Conv2D(256, (3, 3), activation='relu', padding='same')(conv4)\n",
        "    pool4 = MaxPooling2D(pool_size=(2, 2))(conv4)\n",
        "\n",
        "    conv5 = Conv2D(512, (3, 3), activation='relu', padding='same')(pool4)\n",
        "    conv5 = Conv2D(512, (3, 3), activation='relu', padding='same')(conv5)\n",
        "\n",
        "    up6 = concatenate([Conv2DTranspose(256, (2, 2), strides=(2, 2), padding='same')(conv5), conv4], axis=3)\n",
        "    conv6 = Conv2D(256, (3, 3), activation='relu', padding='same')(up6)\n",
        "    conv6 = Conv2D(256, (3, 3), activation='relu', padding='same')(conv6)\n",
        "\n",
        "    up7 = concatenate([Conv2DTranspose(128, (2, 2), strides=(2, 2), padding='same')(conv6), conv3], axis=3)\n",
        "    conv7 = Conv2D(128, (3, 3), activation='relu', padding='same')(up7)\n",
        "    conv7 = Conv2D(128, (3, 3), activation='relu', padding='same')(conv7)\n",
        "\n",
        "    up8 = concatenate([Conv2DTranspose(64, (2, 2), strides=(2, 2), padding='same')(conv7), conv2], axis=3)\n",
        "    conv8 = Conv2D(64, (3, 3), activation='relu', padding='same')(up8)\n",
        "    conv8 = Conv2D(64, (3, 3), activation='relu', padding='same')(conv8)\n",
        "\n",
        "    up9 = concatenate([Conv2DTranspose(32, (2, 2), strides=(2, 2), padding='same')(conv8), conv1], axis=3)\n",
        "    conv9 = Conv2D(32, (3, 3), activation='relu', padding='same')(up9)\n",
        "    conv9 = Conv2D(32, (3, 3), activation='relu', padding='same')(conv9)\n",
        "\n",
        "    conv10 = Conv2D(1, (1, 1), activation='sigmoid')(conv9)\n",
        "\n",
        "    model = Model(inputs=[inputs], outputs=[conv10])\n",
        "\n",
        "    model.compile(optimizer=Adam(lr=1e-3), loss=dice_coef_loss, metrics=[dice_coef])\n",
        "\n",
        "    return model\n"
      ],
      "metadata": {
        "id": "nY5JvzuM_4dt"
      },
      "execution_count": null,
      "outputs": []
    },
    {
      "cell_type": "markdown",
      "source": [
        "Model Training"
      ],
      "metadata": {
        "id": "cmRrbFdOAKFk"
      }
    },
    {
      "cell_type": "code",
      "source": [
        "## Preprocessing input images ##\n",
        "def preprocess(imgs):\n",
        "    imgs_p = np.ndarray((imgs.shape[0], rows, cols), dtype=np.uint8)\n",
        "    for i in range(imgs.shape[0]):\n",
        "        imgs_p[i] = resize(imgs[i], (cols, rows), preserve_range=True)\n",
        "\n",
        "    imgs_p = imgs_p[..., np.newaxis]\n",
        "    return imgs_p"
      ],
      "metadata": {
        "id": "hsyWuOwBYpbm"
      },
      "execution_count": null,
      "outputs": []
    },
    {
      "cell_type": "code",
      "source": [
        "def train():\n",
        "    print('-'*30)\n",
        "    print('Loading and preprocessing train data...')\n",
        "    print('-'*30)\n",
        "    imgs_train, imgs_mask_train = load_train_data()\n",
        "\n",
        "    imgs_train = preprocess(imgs_train)\n",
        "    imgs_mask_train = preprocess(imgs_mask_train)\n",
        "\n",
        "    imgs_train = imgs_train.astype('float32')\n",
        "    mean = np.mean(imgs_train)  # mean for data centering\n",
        "    std = np.std(imgs_train)  # std for data normalization\n",
        "\n",
        "    imgs_train -= mean\n",
        "    imgs_train /= std\n",
        "    #Normalization of the train set\n",
        "\n",
        "    imgs_mask_train = imgs_mask_train.astype('float32')\n",
        "\n",
        "    print('-'*30)\n",
        "    print('Creating and compiling model...')\n",
        "    print('-'*30)\n",
        "    model = get_unet()\n",
        "    model_checkpoint = ModelCheckpoint('weights.h5', monitor='val_loss')\n",
        "    #Saving the weights and the loss of the best predictions we obtained\n",
        "\n",
        "    print('-'*30)\n",
        "    print('Fitting model...')\n",
        "    print('-'*30)\n",
        "    history=model.fit(imgs_train, imgs_mask_train, batch_size=5, epochs=5, verbose=1, shuffle=True,\n",
        "              callbacks=[model_checkpoint])\n",
        "\n",
        "    print('-'*30)\n",
        "    print('Loading and preprocessing test data...')\n",
        "    print('-'*30)\n",
        "    imgs_test = load_test_data()\n",
        "    imgs_test = preprocess(imgs_test)\n",
        "\n",
        "    imgs_test = imgs_test.astype('float32')\n",
        "    imgs_test -= mean\n",
        "    imgs_test /= std\n",
        "    #Normalization of the test set\n",
        "\n",
        "    # print('-'*30)\n",
        "    # print('Loading saved weights...')\n",
        "    # print('-'*30)\n",
        "    # model.load_weights('weights.h5')\n",
        "\n",
        "    print('-'*30)\n",
        "    print('Predicting masks on test data...')\n",
        "    print('-'*30)\n",
        "    imgs_mask_test = model.predict(imgs_test, verbose=1)\n",
        "    np.save(os.path.join(save_to_path, 'lung_mask_test.npy'), imgs_mask_test)\n",
        "    print('-' * 30)\n",
        "    print('Saving predicted masks to files...')\n",
        "    print('-' * 30)\n",
        "    # pred_dir = 'preds'\n",
        "    # if not os.path.exists(pred_dir):\n",
        "    #     os.mkdir(pred_dir)\n",
        "\n",
        "    for k in range(len(imgs_mask_test)):\n",
        "        a=rescale_intensity(imgs_test[k][:,:,0],out_range=(-1,1))\n",
        "        b=(imgs_mask_test[k][:,:,0]).astype('uint8')\n",
        "        io.imsave(os.path.join(save_to_path, str(k) + '_pred.png'),mark_boundaries(a,b))\n",
        "    #Saving our predictions in the directory 'preds'\n",
        "\n",
        "    plt.plot(history.history['dice_coef'])\n",
        "    # plt.plot(history.history['val_dice_coef'])\n",
        "    plt.title('Model dice coeff')\n",
        "    plt.ylabel('Dice coeff')\n",
        "    plt.xlabel('Epoch')\n",
        "    plt.legend(['Train', 'Test'], loc='upper left')\n",
        "    plt.show()\n",
        "    #plotting our dice coeff results in function of the number of epochs"
      ],
      "metadata": {
        "id": "O2s-IMgzZE2L"
      },
      "execution_count": null,
      "outputs": []
    },
    {
      "cell_type": "code",
      "source": [
        "if __name__ == '__main__':\n",
        "  train()"
      ],
      "metadata": {
        "colab": {
          "base_uri": "https://localhost:8080/",
          "height": 868
        },
        "id": "-bDUMSGfZSAu",
        "outputId": "8c3ce2dc-ea8c-4215-b5a9-e1280395e048"
      },
      "execution_count": null,
      "outputs": [
        {
          "output_type": "stream",
          "name": "stdout",
          "text": [
            "------------------------------\n",
            "Loading and preprocessing train data...\n",
            "------------------------------\n",
            "------------------------------\n",
            "Creating and compiling model...\n",
            "------------------------------\n"
          ]
        },
        {
          "output_type": "stream",
          "name": "stderr",
          "text": [
            "/usr/local/lib/python3.7/dist-packages/keras/optimizer_v2/adam.py:105: UserWarning: The `lr` argument is deprecated, use `learning_rate` instead.\n",
            "  super(Adam, self).__init__(name, **kwargs)\n"
          ]
        },
        {
          "output_type": "stream",
          "name": "stdout",
          "text": [
            "------------------------------\n",
            "Fitting model...\n",
            "------------------------------\n",
            "Epoch 1/5\n",
            "1/1 [==============================] - 48s 48s/step - loss: -0.4206 - dice_coef: 0.4206\n",
            "Epoch 2/5\n",
            "1/1 [==============================] - 35s 35s/step - loss: -0.4297 - dice_coef: 0.4297\n",
            "Epoch 3/5\n",
            "1/1 [==============================] - 38s 38s/step - loss: -0.4364 - dice_coef: 0.4364\n",
            "Epoch 4/5\n",
            "1/1 [==============================] - 36s 36s/step - loss: -0.4539 - dice_coef: 0.4539\n",
            "Epoch 5/5\n",
            "1/1 [==============================] - 35s 35s/step - loss: -0.5164 - dice_coef: 0.5164\n",
            "------------------------------\n",
            "Loading and preprocessing test data...\n",
            "------------------------------\n",
            "------------------------------\n",
            "Predicting masks on test data...\n",
            "------------------------------\n",
            "1/1 [==============================] - 4s 4s/step\n"
          ]
        },
        {
          "output_type": "stream",
          "name": "stderr",
          "text": [
            "WARNING:root:Lossy conversion from float64 to uint8. Range [-1.0, 1.0]. Convert image to uint8 prior to saving to suppress this warning.\n"
          ]
        },
        {
          "output_type": "stream",
          "name": "stdout",
          "text": [
            "------------------------------\n",
            "Saving predicted masks to files...\n",
            "------------------------------\n"
          ]
        },
        {
          "output_type": "stream",
          "name": "stderr",
          "text": [
            "WARNING:root:Lossy conversion from float64 to uint8. Range [-1.0, 1.0]. Convert image to uint8 prior to saving to suppress this warning.\n"
          ]
        },
        {
          "output_type": "display_data",
          "data": {
            "image/png": "[encoded data removed]",
            "text/plain": [
              "<Figure size 432x288 with 1 Axes>"
            ]
          },
          "metadata": {
            "needs_background": "light"
          }
        }
      ]
    }
  ]
}